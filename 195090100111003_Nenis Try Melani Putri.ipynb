{
 "cells": [
  {
   "cell_type": "code",
   "execution_count": 6,
   "id": "6735f59f-d355-42f9-af2c-22866109f6f8",
   "metadata": {},
   "outputs": [
    {
     "name": "stdout",
     "output_type": "stream",
     "text": [
      "{'Count': '685255', 'RetMax': '20', 'RetStart': '0', 'IdList': ['2206981851', '2206981849', '2206981847', '2206981845', '2206981843', '2206981841', '2206981839', '2206981837', '2206981835', '2206981833', '2206981830', '2206981828', '2206981826', '2206981824', '2206981822', '2206981820', '2206981818', '2206981816', '2206981814', '2206981812'], 'TranslationSet': [{'From': 'Macaca mulatta', 'To': '\"Macaca mulatta\"[Organism] OR Macaca mulatta[All Fields]'}], 'TranslationStack': [{'Term': '\"Macaca mulatta\"[Organism]', 'Field': 'Organism', 'Count': '618982', 'Explode': 'Y'}, {'Term': 'Macaca mulatta[All Fields]', 'Field': 'All Fields', 'Count': '685255', 'Explode': 'N'}, 'OR', 'GROUP'], 'QueryTranslation': '\"Macaca mulatta\"[Organism] OR Macaca mulatta[All Fields]'}\n"
     ]
    }
   ],
   "source": [
    "handle = Entrez.esearch(db=\"nuccore\", term=\"Macaca mulatta\")\n",
    "record = Entrez.read(handle)\n",
    "print(record)\n",
    "handle.close() #always close your handle after you finish"
   ]
  },
  {
   "cell_type": "code",
   "execution_count": 7,
   "id": "c6aa0487-dd63-4cc7-9385-640368fa9cf3",
   "metadata": {},
   "outputs": [
    {
     "name": "stdout",
     "output_type": "stream",
     "text": [
      "{'Count': '33', 'RetMax': '20', 'RetStart': '0', 'IdList': ['1985853800', '1985853298', '1985843566', '386781431', '1622969467', '1622950890', '1622950887', '1622950885', '1622950882', '1622950879', '1622950877', '1622950874', '1622950872', '1622950869', '1622950867', '1622950865', '1597485639', '1597485625', '82614965', '47159454'], 'TranslationSet': [{'From': 'Macaca mulatta', 'To': '\"Macaca mulatta\"[Organism] OR Macaca mulatta[All Fields]'}], 'TranslationStack': [{'Term': '\"Macaca mulatta\"[Organism]', 'Field': 'Organism', 'Count': '618982', 'Explode': 'Y'}, {'Term': 'Macaca mulatta[All Fields]', 'Field': 'All Fields', 'Count': '685255', 'Explode': 'N'}, 'OR', 'GROUP', {'Term': 'Snrpn[All Fields]', 'Field': 'All Fields', 'Count': '1788', 'Explode': 'N'}, 'AND', 'GROUP'], 'QueryTranslation': '(\"Macaca mulatta\"[Organism] OR Macaca mulatta[All Fields]) AND Snrpn[All Fields]'}\n"
     ]
    }
   ],
   "source": [
    "from Bio import Entrez\n",
    "Entrez.email = \"localuser@localhost.localdomain\" #Mandatory! Can be replaced with your personal email.\n",
    "\n",
    "#creating handle\n",
    "handle = Entrez.esearch(db=\"nuccore\", term=\"Macaca mulatta Snrpn\")\n",
    "record = Entrez.read(handle)\n",
    "print(record)\n",
    "handle.close() #always close your handle after you finish\n"
   ]
  },
  {
   "cell_type": "code",
   "execution_count": 8,
   "id": "ae9eeda8-3eee-46ee-b117-560504164a16",
   "metadata": {},
   "outputs": [
    {
     "name": "stdout",
     "output_type": "stream",
     "text": [
      "LOCUS       AY953510                 782 bp    DNA     linear   PRI 23-JUL-2007\n",
      "DEFINITION  Macaca mulatta Snrpn gene, intron.\n",
      "ACCESSION   AY953510\n",
      "VERSION     AY953510.1\n",
      "KEYWORDS    .\n",
      "SOURCE      Macaca mulatta (Rhesus monkey)\n",
      "  ORGANISM  Macaca mulatta\n",
      "            Eukaryota; Metazoa; Chordata; Craniata; Vertebrata; Euteleostomi;\n",
      "            Mammalia; Eutheria; Euarchontoglires; Primates; Haplorrhini;\n",
      "            Catarrhini; Cercopithecidae; Cercopithecinae; Macaca.\n",
      "REFERENCE   1  (bases 1 to 782)\n",
      "  AUTHORS   Paoloni-Giacobino,A., D'Aiuto,L., Cirio,M.C., Reinhart,B. and\n",
      "            Chaillet,J.R.\n",
      "  TITLE     Conserved features of imprinted differentially methylated domains\n",
      "  JOURNAL   Gene 399 (1), 33-45 (2007)\n",
      "   PUBMED   17544602\n",
      "REFERENCE   2  (bases 1 to 782)\n",
      "  AUTHORS   Paoloni-Giacobino,A. and Chaillet,J.R.\n",
      "  TITLE     Intronic sequence within the DMD of Snrpn gene, Macaca mulatta\n",
      "  JOURNAL   Unpublished\n",
      "REFERENCE   3  (bases 1 to 782)\n",
      "  AUTHORS   Paoloni-Giacobino,A. and Chaillet,J.R.\n",
      "  TITLE     Direct Submission\n",
      "  JOURNAL   Submitted (04-MAR-2005) Molecular Genetics and Biochemistry,\n",
      "            Pittsburgh University, 200 Lothrop Street, Pittsburgh, PA 15213,\n",
      "            USA\n",
      "FEATURES             Location/Qualifiers\n",
      "     source          1..782\n",
      "                     /organism=\"Macaca mulatta\"\n",
      "                     /mol_type=\"genomic DNA\"\n",
      "                     /db_xref=\"taxon:9544\"\n",
      "     gene            <1..>782\n",
      "                     /gene=\"Snrpn\"\n",
      "     intron          <1..>782\n",
      "                     /gene=\"Snrpn\"\n",
      "ORIGIN      \n",
      "        1 ttggggcgcg tcctccatcc gcccccagct gtggtgtcgc cacaggtcct attgcgggtg\n",
      "       61 tctgcggtgg gaagggcggt ggtgacgggg agcgtgtggg gtcaccgcag ccagccaggg\n",
      "      121 acatgggcgg aggtgggtac atcggagtga ctgcagttcc gtgtggcgag ggtacgtggg\n",
      "      181 gggaccggtg catcgggatt tgaggcggag gtaggtatac tggagtgatc gtggcggggc\n",
      "      241 gaaggtacgt ggagtgacgg gtatttaggg ggtgtcgagc gcaggtgggt gtactgaagt\n",
      "      301 ggccactgcg tggtggagca gggtacgtgg ggcgactggg gggtattcgt cgcagtgacc\n",
      "      361 gaggcgagga ggctgtggca gtggaccagg gggatgagtc ggtacgaccg tggtggggtt\n",
      "      421 tgtgttggtg atcgcggcgc gggaagggtc tgtaggaagc ggctgggagg taggaggaag\n",
      "      481 gcggcggcgg tgggcattgg cggctttggt ggcagtaggc atggcggcgg tgggcatggc\n",
      "      541 atggaggcgg tgggcatggc ggccgcgggg cctgttgctg tctggagtga ctaagggacg\n",
      "      601 ctgaatgatc gctgtggcgg ggagggggca tcaggagggg cagtagcaca gtcagcagcc\n",
      "      661 tttaattttc ctgtgacctg cggtggtcat ctggtttgtc tgctgtggtg atgtcaggtg\n",
      "      721 cttttttatt aaaactgcgc aacgcctaca ctgccgcagg ggctgcagaa atgcgtggaa\n",
      "      781 tc\n",
      "//\n",
      "\n",
      "\n"
     ]
    }
   ],
   "source": [
    "from Bio import Entrez\n",
    "Entrez.email = \"localuser@localhost.localdomain\" #Mandatory! Can be replaced with your personal email.\n",
    "\n",
    "#creating handle\n",
    "efetch_handle = Entrez.efetch(db=\"nuccore\", id=\"AY953510\", rettype=\"gb\", retmode=\"text\")\n",
    "gbrecord = efetch_handle.read()\n",
    "print(gbrecord)"
   ]
  },
  {
   "cell_type": "code",
   "execution_count": 9,
   "id": "a53c4f87-8889-4688-9393-62660bb5b2b0",
   "metadata": {},
   "outputs": [
    {
     "name": "stdout",
     "output_type": "stream",
     "text": [
      ">AY953510.1 Macaca mulatta Snrpn gene, intron\n",
      "TTGGGGCGCGTCCTCCATCCGCCCCCAGCTGTGGTGTCGCCACAGGTCCTATTGCGGGTGTCTGCGGTGG\n",
      "GAAGGGCGGTGGTGACGGGGAGCGTGTGGGGTCACCGCAGCCAGCCAGGGACATGGGCGGAGGTGGGTAC\n",
      "ATCGGAGTGACTGCAGTTCCGTGTGGCGAGGGTACGTGGGGGGACCGGTGCATCGGGATTTGAGGCGGAG\n",
      "GTAGGTATACTGGAGTGATCGTGGCGGGGCGAAGGTACGTGGAGTGACGGGTATTTAGGGGGTGTCGAGC\n",
      "GCAGGTGGGTGTACTGAAGTGGCCACTGCGTGGTGGAGCAGGGTACGTGGGGCGACTGGGGGGTATTCGT\n",
      "CGCAGTGACCGAGGCGAGGAGGCTGTGGCAGTGGACCAGGGGGATGAGTCGGTACGACCGTGGTGGGGTT\n",
      "TGTGTTGGTGATCGCGGCGCGGGAAGGGTCTGTAGGAAGCGGCTGGGAGGTAGGAGGAAGGCGGCGGCGG\n",
      "TGGGCATTGGCGGCTTTGGTGGCAGTAGGCATGGCGGCGGTGGGCATGGCATGGAGGCGGTGGGCATGGC\n",
      "GGCCGCGGGGCCTGTTGCTGTCTGGAGTGACTAAGGGACGCTGAATGATCGCTGTGGCGGGGAGGGGGCA\n",
      "TCAGGAGGGGCAGTAGCACAGTCAGCAGCCTTTAATTTTCCTGTGACCTGCGGTGGTCATCTGGTTTGTC\n",
      "TGCTGTGGTGATGTCAGGTGCTTTTTTATTAAAACTGCGCAACGCCTACACTGCCGCAGGGGCTGCAGAA\n",
      "ATGCGTGGAATC\n",
      "\n",
      "\n"
     ]
    }
   ],
   "source": [
    "#creating handle\n",
    "efetch_handle = Entrez.efetch(db=\"nuccore\", id=\"AY953510\", rettype=\"fasta\", retmode=\"text\")\n",
    "gbrecord = efetch_handle.read()\n",
    "print(gbrecord)"
   ]
  },
  {
   "cell_type": "code",
   "execution_count": 18,
   "id": "3dfb91db-0496-4c6c-ba32-a66e04cbd0e0",
   "metadata": {},
   "outputs": [
    {
     "name": "stdout",
     "output_type": "stream",
     "text": [
      "gb download\n"
     ]
    }
   ],
   "source": [
    "import os\n",
    "\n",
    "#creating EFetch handle\n",
    "filename = \"snrpn macaca mulatta.gbk\" #up to you, but Genbank files always use *.gb or *.gbk \n",
    "\n",
    "#creating EFetch handle\n",
    "if not os.path.isfile(filename):\n",
    "    # Downloading file...\n",
    "    efetch_handle = Entrez.efetch(db=\"nuccore\", id=\"AY953510\", rettype=\"gb\", retmode=\"text\")\n",
    "    output_file_handle = open(filename, \"w\")\n",
    "    output_file_handle.write(efetch_handle.read())\n",
    "    output_file_handle.close()\n",
    "    efetch_handle.close()\n",
    "    print(\"gb download\")"
   ]
  },
  {
   "cell_type": "code",
   "execution_count": 19,
   "id": "dd06bfc1-e6ce-4696-bb9c-22b3e7a81ae4",
   "metadata": {},
   "outputs": [
    {
     "name": "stdout",
     "output_type": "stream",
     "text": [
      "FASTA Download\n"
     ]
    }
   ],
   "source": [
    "import os\n",
    "\n",
    "#creating EFetch handle\n",
    "filename = \"snrpn macaca mulatta.fasta\" #up to you, but FASTA files always use *.fasta or *.fas \n",
    "\n",
    "#creating EFetch handle\n",
    "if not os.path.isfile(filename):\n",
    "    # Downloading file...\n",
    "    efetch_handle = Entrez.efetch(db=\"nuccore\", id=\"AY953510\", rettype=\"fasta\", retmode=\"text\")\n",
    "    output_file_handle = open(filename, \"w\")\n",
    "    output_file_handle.write(efetch_handle.read())\n",
    "    output_file_handle.close()\n",
    "    efetch_handle.close()\n",
    "    print(\"FASTA Download\")"
   ]
  },
  {
   "cell_type": "code",
   "execution_count": 16,
   "id": "5ead8e63-9271-494d-a974-ab52b8e22252",
   "metadata": {},
   "outputs": [
    {
     "name": "stdout",
     "output_type": "stream",
     "text": [
      "GB downloaded\n"
     ]
    }
   ],
   "source": [
    "import os # import os module for OS utilities\n",
    "from Bio import Entrez, SeqIO\n",
    "Entrez.email = \"localuser@localhost.localdomain\" #Mandatory! Can be replaced with your personal email.\n",
    "\n",
    "#creating EFetch handle\n",
    "filename = \"macaca mulatta completee.gbk\" #up to you, but Genbank files always use *.gb or *.gbk \n",
    "\n",
    "#creating EFetch handle\n",
    "if not os.path.isfile(filename):\n",
    "    # Downloading file...\n",
    "    efetch_handle = Entrez.efetch(db=\"nuccore\", id=\"AH000823\", rettype=\"gb\", retmode=\"text\")\n",
    "    output_file_handle = open(filename, \"w\")\n",
    "    output_file_handle.write(efetch_handle.read())\n",
    "    output_file_handle.close()\n",
    "    efetch_handle.close()\n",
    "    print(\"GB downloaded\")"
   ]
  },
  {
   "cell_type": "code",
   "execution_count": 30,
   "id": "7217a910-0d6c-4c70-87dc-31328faa5624",
   "metadata": {},
   "outputs": [
    {
     "name": "stdout",
     "output_type": "stream",
     "text": [
      ">HP|Macaca mulatta haptoglobin (HP) gene, partial cds; and HPR gene, complete sequence\n",
      "ATGTGGGAAGCCCAAGAATCCGGCAGACGCAGTGCAGCGGATCCTGGGTGGACACCTGGATGCAAAGGCAGCTTTCCCTGGCAGGCTAAGATGGTTTCCCGCCATAATCTCACCACAGGGGCCACGCTGATCAATGAACAATGGCTGCTGACCACGGCTAACAATCTCTTCCTGAACCATTCAGAAAATGCAACAGCGAAAGACATTGCCCCTACTTTAACACTCTATGTGGGGAAAAAGCAGCTTGTAGAGATTGAGAAGGTGGTTCTACACCCTAACTACTCCCAGGTAGATATTGGGCTCATCAAACTCAAACAGAAGGTGCCTGTTAATGAGAGAGTGATGCCCATCTGCCTACCTTCAAAGGATTATGCAGAAGTAGGGCGTGTGGGTTACGTGTCTGGCTGGGGCGAAATGCCAATTTTAAATTTACTGACCATCTGA\n"
     ]
    }
   ],
   "source": [
    "from Bio import SeqIO\n",
    "\n",
    "GoI = \"HP\" #change \" HP \" here with your GoI\n",
    "\n",
    "for genome in SeqIO.parse(\"macaca mulatta completee.gbk\",\"genbank\"):\n",
    "    for gene in genome.features:\n",
    "        if gene.type != \"CDS\":\n",
    "            continue\n",
    "        if \"gene\" not in gene.qualifiers:\n",
    "            continue\n",
    "        if GoI not in gene.qualifiers[\"gene\"][0]: \n",
    "            continue\n",
    "        gene_seq = gene.extract(genome.seq)\n",
    "\n",
    "GoI_fasta = \">%s|%s\\n%s\" % (GoI, genome.description, gene_seq)\n",
    "print(GoI_fasta)"
   ]
  },
  {
   "cell_type": "code",
   "execution_count": null,
   "id": "72b65b8e-b3f0-4be5-ad2c-25abbc2cffde",
   "metadata": {},
   "outputs": [],
   "source": []
  }
 ],
 "metadata": {
  "kernelspec": {
   "display_name": "Python 3 (ipykernel)",
   "language": "python",
   "name": "python3"
  },
  "language_info": {
   "codemirror_mode": {
    "name": "ipython",
    "version": 3
   },
   "file_extension": ".py",
   "mimetype": "text/x-python",
   "name": "python",
   "nbconvert_exporter": "python",
   "pygments_lexer": "ipython3",
   "version": "3.9.7"
  }
 },
 "nbformat": 4,
 "nbformat_minor": 5
}
